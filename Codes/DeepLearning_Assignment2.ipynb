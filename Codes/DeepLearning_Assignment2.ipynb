{
  "nbformat": 4,
  "nbformat_minor": 0,
  "metadata": {
    "colab": {
      "name": "DeepLearning_Assignment2.ipynb",
      "provenance": []
    },
    "kernelspec": {
      "name": "python3",
      "display_name": "Python 3"
    }
  },
  "cells": [
    {
      "cell_type": "code",
      "metadata": {
        "id": "1_usq42cpOCd",
        "colab_type": "code",
        "colab": {}
      },
      "source": [
        "import numpy as np\n",
        "import numpy.linalg as npl\n",
        "import matplotlib.pyplot as plt\n",
        "warnings.filterwarnings('ignore')\n",
        "from sklearn.metrics import accuracy_score\n",
        "import tensorflow as tf\n",
        "import warnings\n"
      ],
      "execution_count": 0,
      "outputs": []
    },
    {
      "cell_type": "code",
      "metadata": {
        "id": "TESLDR5JRvh5",
        "colab_type": "code",
        "colab": {}
      },
      "source": [
        "(x_train, y_train), (x_test, y_test) = tf.keras.datasets.mnist.load_data()"
      ],
      "execution_count": 0,
      "outputs": []
    },
    {
      "cell_type": "markdown",
      "metadata": {
        "id": "6oQu3px5qGqy",
        "colab_type": "text"
      },
      "source": [
        "1. Formatting and Normalization"
      ]
    },
    {
      "cell_type": "code",
      "metadata": {
        "id": "XLB5tSWNR3Eq",
        "colab_type": "code",
        "colab": {}
      },
      "source": [
        "x_train = x_train[:50000]\n",
        "y_train = y_train[:50000]\n",
        "\n",
        "x_train = x_train.reshape(50000, 784)\n",
        "x_test = x_test.reshape(10000, 784)\n",
        "\n",
        "y_test[y_test  < 5]  = 0\n",
        "y_test[y_test > 4] = 1\n",
        "y_train[y_train < 5]  = 0\n",
        "y_train[y_train > 4] = 1\n"
      ],
      "execution_count": 0,
      "outputs": []
    },
    {
      "cell_type": "code",
      "metadata": {
        "id": "3HsnCgQpR64g",
        "colab_type": "code",
        "colab": {}
      },
      "source": [
        "x_train = x_train/255\n",
        "x_test = x_test/255"
      ],
      "execution_count": 0,
      "outputs": []
    },
    {
      "cell_type": "code",
      "metadata": {
        "id": "yHmRoq0Dpw4y",
        "colab_type": "code",
        "colab": {}
      },
      "source": [
        "x_train  = (x_train - np.mean(x_train, 0))/ np.std(x_train, 0)\n",
        "x_train[np.isnan(x_train)] = 0\n",
        "\n",
        "x_test =  (x_test - np.mean(x_test, 0))/ np.std(x_test, 0)\n",
        "x_test[np.isnan(x_test)] = 0\n",
        "x_test[np.isinf(x_test)] = 0\n",
        "\n",
        "x_train = np.hstack((x_train, np.ones((x_train.shape[0], 1), dtype=x_train.dtype)))\n",
        "x_test = np.hstack((x_test, np.ones((x_test.shape[0], 1), dtype=x_test.dtype)))\n"
      ],
      "execution_count": 0,
      "outputs": []
    },
    {
      "cell_type": "code",
      "metadata": {
        "id": "H0nmPb1cAVrr",
        "colab_type": "code",
        "colab": {}
      },
      "source": [
        "#Q3\n",
        "def add_bias(x):\n",
        "    return np.concatenate([x,np.ones((x.shape[0],1))],1)\n",
        "\n",
        "def relu(x):\n",
        "    return np.maximum(x,0)\n",
        "\n",
        "def predict(w,u,x):\n",
        "    return w.dot(relu(u.dot(x)))\n",
        "\n",
        "def get_grad(w,u,y,x):\n",
        "    h=relu(u.dot(x))\n",
        "    sigmap=u.dot(x)>0+0.\n",
        "    yh=predict(w,u,x)\n",
        "    r=yh-y\n",
        "    grad_w=r*h\n",
        "    grad_u=r*np.outer(w*sigmap,x)\n",
        "    return grad_w,grad_u\n",
        "\n",
        "def loss(w,u,y,x):\n",
        "    return npl.norm(y-predict(w,u,x))**2\n",
        "\n",
        "def sigmoid(x):\n",
        "  return 1/(1 + np.exp(-x))\n",
        "\n",
        "#Q4\n",
        "def predict_log_loss(w,u,x):\n",
        "    return sigmoid(w.dot(relu(u.dot(x))))\n",
        "\n",
        "def log_loss(w, u, x, y):\n",
        "  h = sigmoid(w.dot(relu(u.dot(x))))\n",
        "  return (-y * np.log(h) - (1 - y) * np.log(1 - h)).mean()\n",
        "\n",
        "\n",
        "def get_grad_logistic( w, u, y,  x):\n",
        "  y_dash = 2*y - 1\n",
        "  first_layer = relu(u.dot(x))\n",
        "  yh = w.dot(relu(u.dot(x)))\n",
        "  sigmap=u.dot(x)>0+0\n",
        "  grad_w = -(y_dash * first_layer * sigmoid(yh) * (1 -sigmoid(yh)))/(1 + np.exp(y_dash * yh))\n",
        "  grad_u = -(y_dash  * sigmoid(yh) * (1 -sigmoid(yh)) * np.outer(w*sigmap,x))/ (1 + np.exp(y_dash * yh))\n",
        "  return grad_w,grad_u\n"
      ],
      "execution_count": 0,
      "outputs": []
    },
    {
      "cell_type": "markdown",
      "metadata": {
        "id": "sTnPD3g-Xvcj",
        "colab_type": "text"
      },
      "source": [
        "##3. neural network classifier with σ(x) = x : Quadratic Loss\n"
      ]
    },
    {
      "cell_type": "markdown",
      "metadata": {
        "id": "ebDlXrAbrZcB",
        "colab_type": "text"
      },
      "source": [
        "For k=5:"
      ]
    },
    {
      "cell_type": "code",
      "metadata": {
        "id": "q0bi5Gf2pVv-",
        "colab_type": "code",
        "colab": {}
      },
      "source": [
        "train_acc = []\n",
        "test_acc = []\n",
        "\n",
        "k= 5  \n",
        "d= 785 \n",
        "w = np.random.normal(0, 0.01, k)\n",
        "u = np.random.normal(0, 1/k, k*d).reshape(k,d)\n",
        "N = 50000\n",
        "learning_rate= 0.0001  \n",
        "\n",
        "iteration_number= 5\n",
        "for it in range(iteration_number):\n",
        "    grad_w=0\n",
        "    grad_u=0\n",
        "    indices = [i for i in range(50000)]\n",
        "    np.random.shuffle(indices)\n",
        "    for i in indices:\n",
        "        gw,gu=get_grad(w,u,y_train[i],x_train[i])\n",
        "        grad_w=gw\n",
        "        grad_u=gu\n",
        "        w=w-learning_rate*grad_w\n",
        "        u=u-learning_rate*grad_u\n",
        "        if(i % 1000 == 0):\n",
        "          y_hat_test=predict(w,u,x_test.T)>0.5+0\n",
        "          y_hat_train = predict(w,u,x_train.T)>0.5+0\n",
        "          train_acc.append(accuracy_score(y_hat_train, y_train ))\n",
        "          test_acc.append(accuracy_score(y_hat_test, y_test ))"
      ],
      "execution_count": 0,
      "outputs": []
    },
    {
      "cell_type": "code",
      "metadata": {
        "id": "vMXeGWkT_GH4",
        "colab_type": "code",
        "outputId": "b838d2b3-44e8-4e71-e041-6f87246890d0",
        "colab": {
          "base_uri": "https://localhost:8080/",
          "height": 265
        }
      },
      "source": [
        "#Test and Train Accuracy\n",
        "import matplotlib.pyplot as plt\n",
        "plt.figure()\n",
        "a = plt.subplot(111)\n",
        "a.plot(test_acc,'r',label=\"TestAccuracy\")\n",
        "a.plot(train_acc, 'b',label=\"TrainAccuracy\")\n",
        "a.legend()\n",
        "plt.show()"
      ],
      "execution_count": 45,
      "outputs": [
        {
          "output_type": "display_data",
          "data": {
            "image/png": "[encoded data removed]",
            "text/plain": [
              "<Figure size 432x288 with 1 Axes>"
            ]
          },
          "metadata": {
            "tags": [],
            "needs_background": "light"
          }
        }
      ]
    },
    {
      "cell_type": "markdown",
      "metadata": {
        "id": "bItWzNGqrk5j",
        "colab_type": "text"
      },
      "source": [
        "For k=40:"
      ]
    },
    {
      "cell_type": "code",
      "metadata": {
        "id": "ADnmHlCrCQof",
        "colab_type": "code",
        "colab": {}
      },
      "source": [
        "train_acc = []\n",
        "test_acc = []\n",
        "\n",
        "k= 40\n",
        "d= 785 \n",
        "w = np.random.normal(0, 0.01, k)\n",
        "u = np.random.normal(0, 1/k, k*d).reshape(k,d)\n",
        "N = 50000\n",
        "learning_rate= 0.0001  \n",
        "\n",
        "iteration_number= 5\n",
        "for it in range(iteration_number):\n",
        "    grad_w=0\n",
        "    grad_u=0\n",
        "    indices = [i for i in range(50000)]\n",
        "    np.random.shuffle(indices)\n",
        "    for i in indices:\n",
        "        gw,gu=get_grad(w,u,y_train[i],x_train[i])\n",
        "        grad_w=gw\n",
        "        grad_u=gu\n",
        "        w=w-learning_rate*grad_w\n",
        "        u=u-learning_rate*grad_u\n",
        "        if(i % 1000 == 0):\n",
        "          y_hat_test=predict(w,u,x_test.T)>0.5+0\n",
        "          y_hat_train = predict(w,u,x_train.T)>0.5+0\n",
        "          train_acc.append(accuracy_score(y_hat_train, y_train ))\n",
        "          test_acc.append(accuracy_score(y_hat_test, y_test ))"
      ],
      "execution_count": 0,
      "outputs": []
    },
    {
      "cell_type": "code",
      "metadata": {
        "id": "r5yepptIrzJV",
        "colab_type": "code",
        "colab": {
          "base_uri": "https://localhost:8080/",
          "height": 265
        },
        "outputId": "661244f0-f580-41c3-948c-1e4517b73a66"
      },
      "source": [
        "#Test and Train Accuracy\n",
        "import matplotlib.pyplot as plt\n",
        "plt.figure()\n",
        "a = plt.subplot(111)\n",
        "a.plot(test_acc,'r',label=\"TestAccuracy\")\n",
        "a.plot(train_acc, 'b',label=\"TrainAccuracy\")\n",
        "a.legend()\n",
        "plt.show()"
      ],
      "execution_count": 38,
      "outputs": [
        {
          "output_type": "display_data",
          "data": {
            "image/png": "[encoded data removed]",
            "text/plain": [
              "<Figure size 432x288 with 1 Axes>"
            ]
          },
          "metadata": {
            "tags": [],
            "needs_background": "light"
          }
        }
      ]
    },
    {
      "cell_type": "markdown",
      "metadata": {
        "id": "UlTMbrqWrw2W",
        "colab_type": "text"
      },
      "source": [
        "For K=200:"
      ]
    },
    {
      "cell_type": "code",
      "metadata": {
        "id": "q9GKSQZer05t",
        "colab_type": "code",
        "colab": {}
      },
      "source": [
        "train_acc = []\n",
        "test_acc = []\n",
        "\n",
        "k= 200\n",
        "d= 785 \n",
        "w = np.random.normal(0, 0.01, k)\n",
        "u = np.random.normal(0, 1/k, k*d).reshape(k,d)\n",
        "N = 50000\n",
        "learning_rate= 0.0001  \n",
        "\n",
        "iteration_number= 5\n",
        "for it in range(iteration_number):\n",
        "    grad_w=0\n",
        "    grad_u=0\n",
        "    indices = [i for i in range(50000)]\n",
        "    np.random.shuffle(indices)\n",
        "    for i in indices:\n",
        "        gw,gu=get_grad(w,u,y_train[i],x_train[i])\n",
        "        grad_w=gw\n",
        "        grad_u=gu\n",
        "        w=w-learning_rate*grad_w\n",
        "        u=u-learning_rate*grad_u\n",
        "        if(i % 1000 == 0):\n",
        "          y_hat_test=predict(w,u,x_test.T)>0.5+0\n",
        "          y_hat_train = predict(w,u,x_train.T)>0.5+0\n",
        "          train_acc.append(accuracy_score(y_hat_train, y_train ))\n",
        "          test_acc.append(accuracy_score(y_hat_test, y_test ))"
      ],
      "execution_count": 0,
      "outputs": []
    },
    {
      "cell_type": "code",
      "metadata": {
        "id": "x__uQN8br2su",
        "colab_type": "code",
        "colab": {
          "base_uri": "https://localhost:8080/",
          "height": 265
        },
        "outputId": "ecbd3f00-f7f8-4ffc-8bdf-797e664c8c54"
      },
      "source": [
        "#Test and Train Accuracy\n",
        "import matplotlib.pyplot as plt\n",
        "plt.figure()\n",
        "a = plt.subplot(111)\n",
        "a.plot(test_acc,'r',label=\"TestAccuracy\")\n",
        "a.plot(train_acc, 'b',label=\"TrainAccuracy\")\n",
        "a.legend()\n",
        "plt.show()"
      ],
      "execution_count": 40,
      "outputs": [
        {
          "output_type": "display_data",
          "data": {
            "image/png": "[encoded data removed]",
            "text/plain": [
              "<Figure size 432x288 with 1 Axes>"
            ]
          },
          "metadata": {
            "tags": [],
            "needs_background": "light"
          }
        }
      ]
    },
    {
      "cell_type": "markdown",
      "metadata": {
        "id": "n70OqOKoX1Dq",
        "colab_type": "text"
      },
      "source": [
        "###4.neural network classifier with σ(x) =1/(1+e(-x)) : Logistic Loss"
      ]
    },
    {
      "cell_type": "markdown",
      "metadata": {
        "id": "jfU7MVuJshkb",
        "colab_type": "text"
      },
      "source": [
        "For k=5:"
      ]
    },
    {
      "cell_type": "code",
      "metadata": {
        "id": "D3rrQvOGrfmz",
        "colab_type": "code",
        "colab": {}
      },
      "source": [
        "train_acc = []\n",
        "test_acc = []\n",
        "\n",
        "k= 5\n",
        "d= 785 \n",
        "w = np.random.normal(0, 0.01, k)\n",
        "u = np.random.normal(0, 1/k, k*d).reshape(k,d)\n",
        "N = 50000\n",
        "learning_rate= 0.001  \n",
        "\n",
        "iteration_number= 5\n",
        "for it in range(iteration_number):\n",
        "    grad_w=0\n",
        "    grad_u=0\n",
        "    indices = [i for i in range(50000)]\n",
        "    np.random.shuffle(indices)\n",
        "    for i in indices:\n",
        "        gw,gu=get_grad_logistic(w,u,y_train[i],x_train[i])\n",
        "        grad_w=gw\n",
        "        grad_u=gu\n",
        "        w=w-eta*grad_w\n",
        "        u=u-eta*grad_u\n",
        "\n",
        "        if(i % 1000 == 0):\n",
        "          y_hat_test=predict(w,u,x_test.T)>0.5+0\n",
        "          y_hat_train = predict(w,u,x_train.T)>0.5+0\n",
        "          train_acc.append(accuracy_score(y_hat_train, y_train ))\n",
        "          test_acc.append(accuracy_score(y_hat_test, y_test ))"
      ],
      "execution_count": 0,
      "outputs": []
    },
    {
      "cell_type": "code",
      "metadata": {
        "id": "htwwJwhT7k69",
        "colab_type": "code",
        "outputId": "d55e4a84-da30-4d67-df3a-dcc9b6c03c45",
        "colab": {
          "base_uri": "https://localhost:8080/",
          "height": 265
        }
      },
      "source": [
        "#Test and Train Accuracy\n",
        "import matplotlib.pyplot as plt\n",
        "plt.figure()\n",
        "a = plt.subplot(111)\n",
        "a.plot(test_acc,'r',label=\"TestAccuracy\")\n",
        "a.plot(train_acc, 'b',label=\"TrainAccuracy\")\n",
        "a.legend()\n",
        "plt.show()"
      ],
      "execution_count": 48,
      "outputs": [
        {
          "output_type": "display_data",
          "data": {
            "image/png": "[encoded data removed]",
            "text/plain": [
              "<Figure size 432x288 with 1 Axes>"
            ]
          },
          "metadata": {
            "tags": [],
            "needs_background": "light"
          }
        }
      ]
    },
    {
      "cell_type": "markdown",
      "metadata": {
        "id": "n_mzQ84bsk-_",
        "colab_type": "text"
      },
      "source": [
        "For k=40:"
      ]
    },
    {
      "cell_type": "code",
      "metadata": {
        "id": "j9cjFSFCF7DN",
        "colab_type": "code",
        "colab": {}
      },
      "source": [
        "train_acc = []\n",
        "test_acc = []\n",
        "\n",
        "k= 40\n",
        "d= 785 \n",
        "w = np.random.normal(0, 0.01, k)\n",
        "u = np.random.normal(0, 1/k, k*d).reshape(k,d)\n",
        "N = 50000\n",
        "learning_rate= 0.001  \n",
        "\n",
        "iteration_number= 5\n",
        "for it in range(iteration_number):\n",
        "    grad_w=0\n",
        "    grad_u=0\n",
        "    indices = [i for i in range(50000)]\n",
        "    np.random.shuffle(indices)\n",
        "    for i in indices:\n",
        "        gw,gu=get_grad_logistic(w,u,y_train[i],x_train[i])\n",
        "        grad_w=gw\n",
        "        grad_u=gu\n",
        "        w=w-eta*grad_w\n",
        "        u=u-eta*grad_u\n",
        "\n",
        "        if(i % 1000 == 0):\n",
        "          y_hat_test=predict(w,u,x_test.T)>0.5+0\n",
        "          y_hat_train = predict(w,u,x_train.T)>0.5+0\n",
        "          train_acc.append(accuracy_score(y_hat_train, y_train ))\n",
        "          test_acc.append(accuracy_score(y_hat_test, y_test ))"
      ],
      "execution_count": 0,
      "outputs": []
    },
    {
      "cell_type": "code",
      "metadata": {
        "id": "QpbHvWcDraWg",
        "colab_type": "code",
        "colab": {
          "base_uri": "https://localhost:8080/",
          "height": 266
        },
        "outputId": "be707e44-6b25-4664-c746-b0f236889220"
      },
      "source": [
        "#Test and Train Accuracy\n",
        "import matplotlib.pyplot as plt\n",
        "plt.figure()\n",
        "a = plt.subplot(111)\n",
        "a.plot(test_acc,'r',label=\"TestAccuracy\")\n",
        "a.plot(train_acc, 'b',label=\"TrainAccuracy\")\n",
        "a.legend()\n",
        "plt.show()"
      ],
      "execution_count": 50,
      "outputs": [
        {
          "output_type": "display_data",
          "data": {
            "image/png": "[encoded data removed]",
            "text/plain": [
              "<Figure size 432x288 with 1 Axes>"
            ]
          },
          "metadata": {
            "tags": [],
            "needs_background": "light"
          }
        }
      ]
    },
    {
      "cell_type": "markdown",
      "metadata": {
        "id": "g0ljwfguspzq",
        "colab_type": "text"
      },
      "source": [
        "For k=200:"
      ]
    },
    {
      "cell_type": "code",
      "metadata": {
        "id": "MpmTB7WU40ty",
        "colab_type": "code",
        "colab": {}
      },
      "source": [
        "train_acc = []\n",
        "test_acc = []\n",
        "\n",
        "k= 200\n",
        "d= 785 \n",
        "w = np.random.normal(0, 0.01, k)\n",
        "u = np.random.normal(0, 1/k, k*d).reshape(k,d)\n",
        "N = 50000\n",
        "learning_rate= 0.001  \n",
        "\n",
        "iteration_number= 5\n",
        "for it in range(iteration_number):\n",
        "    grad_w=0\n",
        "    grad_u=0\n",
        "    indices = [i for i in range(50000)]\n",
        "    np.random.shuffle(indices)\n",
        "    for i in indices:\n",
        "        gw,gu=get_grad_logistic(w,u,y_train[i],x_train[i])\n",
        "        grad_w=gw\n",
        "        grad_u=gu\n",
        "        w=w-eta*grad_w\n",
        "        u=u-eta*grad_u\n",
        "\n",
        "        if(i % 1000 == 0):\n",
        "          y_hat_test=predict(w,u,x_test.T)>0.5+0\n",
        "          y_hat_train = predict(w,u,x_train.T)>0.5+0\n",
        "          train_acc.append(accuracy_score(y_hat_train, y_train ))\n",
        "          test_acc.append(accuracy_score(y_hat_test, y_test ))"
      ],
      "execution_count": 0,
      "outputs": []
    },
    {
      "cell_type": "code",
      "metadata": {
        "id": "iIWe6IVUsfzI",
        "colab_type": "code",
        "colab": {
          "base_uri": "https://localhost:8080/",
          "height": 265
        },
        "outputId": "9914df9e-4f50-4f77-bfdf-f738084cd419"
      },
      "source": [
        "#Test and Train Accuracy\n",
        "import matplotlib.pyplot as plt\n",
        "plt.figure()\n",
        "a = plt.subplot(111)\n",
        "a.plot(test_acc,'r',label=\"TestAccuracy\")\n",
        "a.plot(train_acc, 'b',label=\"TrainAccuracy\")\n",
        "a.legend()\n",
        "plt.show()"
      ],
      "execution_count": 52,
      "outputs": [
        {
          "output_type": "display_data",
          "data": {
            "image/png": "[encoded data removed]",
            "text/plain": [
              "<Figure size 432x288 with 1 Axes>"
            ]
          },
          "metadata": {
            "tags": [],
            "needs_background": "light"
          }
        }
      ]
    }
  ]
}