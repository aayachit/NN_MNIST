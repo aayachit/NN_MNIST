{
  "nbformat": 4,
  "nbformat_minor": 0,
  "metadata": {
    "colab": {
      "name": "DeepLearning_Assignment2_linear.ipynb",
      "provenance": []
    },
    "kernelspec": {
      "name": "python3",
      "display_name": "Python 3"
    }
  },
  "cells": [
    {
      "cell_type": "code",
      "metadata": {
        "id": "PByfsFxvcKgs",
        "colab_type": "code",
        "colab": {}
      },
      "source": [
        "import numpy as np\n",
        "import numpy.linalg as npl\n",
        "import matplotlib.pyplot as plt\n",
        "warnings.filterwarnings('ignore')\n",
        "from sklearn.metrics import accuracy_score\n",
        "import tensorflow as tf\n",
        "import warnings\n"
      ],
      "execution_count": 0,
      "outputs": []
    },
    {
      "cell_type": "code",
      "metadata": {
        "id": "9KL1jucQQyrn",
        "colab_type": "code",
        "colab": {}
      },
      "source": [
        "(x_train, y_train), (x_test, y_test) = tf.keras.datasets.mnist.load_data()"
      ],
      "execution_count": 0,
      "outputs": []
    },
    {
      "cell_type": "code",
      "metadata": {
        "id": "n0dEMX6vQ2iA",
        "colab_type": "code",
        "colab": {}
      },
      "source": [
        "x_train = x_train[:50000]\n",
        "y_train = y_train[:50000]\n",
        "\n",
        "x_train = x_train.reshape(50000, 784)\n",
        "x_test = x_test.reshape(10000, 784)\n",
        "\n",
        "y_test[y_test  < 5]  = 0\n",
        "y_test[y_test > 4] = 1\n",
        "y_train[y_train < 5]  = 0\n",
        "y_train[y_train > 4] = 1\n"
      ],
      "execution_count": 0,
      "outputs": []
    },
    {
      "cell_type": "code",
      "metadata": {
        "id": "INqP_yd_Rrji",
        "colab_type": "code",
        "colab": {}
      },
      "source": [
        "x_train = x_train/255\n",
        "x_test = x_test/255"
      ],
      "execution_count": 0,
      "outputs": []
    },
    {
      "cell_type": "code",
      "metadata": {
        "id": "R63tIVcvRt_E",
        "colab_type": "code",
        "colab": {}
      },
      "source": [
        "x_train  = (x_train - np.mean(x_train, 0))/ np.std(x_train, 0)\n",
        "x_train[np.isnan(x_train)] = 0\n",
        "\n",
        "x_test =  (x_test - np.mean(x_test, 0))/ np.std(x_test, 0)\n",
        "x_test[np.isnan(x_test)] = 0\n",
        "x_test[np.isinf(x_test)] = 0\n",
        "\n",
        "x_train = np.hstack((x_train, np.ones((x_train.shape[0], 1), dtype=x_train.dtype)))\n",
        "x_test = np.hstack((x_test, np.ones((x_test.shape[0], 1), dtype=x_test.dtype)))\n"
      ],
      "execution_count": 0,
      "outputs": []
    },
    {
      "cell_type": "code",
      "metadata": {
        "id": "JA5AN4jbRxqK",
        "colab_type": "code",
        "colab": {}
      },
      "source": [
        "\n",
        "def change_to_categorical(inputArr, size):\n",
        "  inputArr = np.where(inputArr > 0.5, 1, 0)\n",
        "  return inputArr\n",
        "\n",
        "def sgd(X,y,weight,l_r,iteration):\n",
        "\n",
        "    n = len(y)\n",
        "    #loss_arr = np.zeros(iteration)\n",
        "    \n",
        "    for iter in range(iteration):\n",
        "        #loss =0.0\n",
        "        #rand = np.random.permutation(n)\n",
        "        #X = X[rand]\n",
        "        #y = y[rand]\n",
        "        for i in range(n):  \n",
        "            random_i = np.random.randint(0,n)\n",
        "            x_new = X[random_i,:]\n",
        "            y_new = y[random_i]\n",
        "\n",
        "            pred = np.dot(x_new,weight)\n",
        "            weight = weight -(1/n)*l_r* ( x_new.T.dot((pred - y_new)))\n",
        "        #loss += find_loss(weight,X,y)\n",
        "        #loss_arr[iter]  = loss\n",
        "        \n",
        "    return weight"
      ],
      "execution_count": 0,
      "outputs": []
    },
    {
      "cell_type": "code",
      "metadata": {
        "id": "d1gsFybvR6uA",
        "colab_type": "code",
        "colab": {}
      },
      "source": [
        "learning_rate = 0.5\n",
        "n_iter = 5\n",
        "\n",
        "N = 50000\n",
        "weight = np.random.normal(0, 0.01, x_train.shape[1])\n",
        "weight = sgd(x_train,y_train,weight,learning_rate,n_iter)\n",
        "ypred = x_train.dot(weight)\n",
        "ypred = change_to_categorical(ypred, 50000)"
      ],
      "execution_count": 0,
      "outputs": []
    },
    {
      "cell_type": "code",
      "metadata": {
        "id": "s-KnD0p_ScXZ",
        "colab_type": "code",
        "outputId": "17c52eba-bd6c-4530-f8fc-473b0d6028ab",
        "colab": {
          "base_uri": "https://localhost:8080/",
          "height": 34
        }
      },
      "source": [
        "from sklearn.metrics import accuracy_score\n",
        "\n",
        "y_test_pred = x_test.dot(weight)\n",
        "y_test_pred = convert_to_categorical(y_test_pred, 10000)\n",
        "\n",
        "print(accuracy_score(y_test_pred, y_test))"
      ],
      "execution_count": 43,
      "outputs": [
        {
          "output_type": "stream",
          "text": [
            "0.8571\n"
          ],
          "name": "stdout"
        }
      ]
    }
  ]
}